{
 "cells": [
  {
   "cell_type": "code",
   "execution_count": 71,
   "metadata": {
    "collapsed": false
   },
   "outputs": [
    {
     "name": "stdout",
     "output_type": "stream",
     "text": [
      "6.27865562903\n"
     ]
    },
    {
     "data": {
      "text/plain": [
       "[]"
      ]
     },
     "execution_count": 71,
     "metadata": {},
     "output_type": "execute_result"
    },
    {
     "data": {
      "image/png": "[encoded data removed]",
      "text/plain": [
       "<matplotlib.figure.Figure at 0xde6f518>"
      ]
     },
     "metadata": {},
     "output_type": "display_data"
    }
   ],
   "source": [
    "import sys, pandas as pd\n",
    "import numpy as np\n",
    "from sklearn import linear_model\n",
    "from sklearn.svm import SVR\n",
    "from sklearn.cross_validation import train_test_split\n",
    "from sklearn.grid_search import GridSearchCV\n",
    "from sklearn.metrics import classification_report\n",
    "import matplotlib.pyplot as plt\n",
    "%matplotlib inline\n",
    "inp = 3.13# float(sys.stdin.readline())\n",
    "\n",
    "data = pd.read_csv(\"trainingdata.txt\",header=None,names=[\"time\",\"battery\"])\n",
    "#print data.head()\n",
    "#train_X, test_X, train_y, test_y = data[\"time\"][:-20], data[\"time\"][-20:], data[\"battery\"][:-20],data[\"battery\"][-20:]\n",
    "\n",
    "\n",
    "regr = SVR(kernel= 'rbf', C= 100, gamma= 0.55)\n",
    "#regr= linear_model.LinearRegression()\n",
    "\n",
    "# Train the model using the training sets\n",
    "regr.fit(data[\"time\"].reshape(-1,1),data[\"battery\"])\n",
    "\n",
    "print regr.predict(inp)[0]\n",
    "\n",
    "plt.scatter(data[\"time\"],regr.predict(data[\"time\"].reshape(-1,1)) , c='r', label='data')\n",
    "plt.scatter(data[\"time\"], data[\"battery\"], c='k', label='data')\n",
    "plt.plot(figsize=(10,10))"
   ]
  },
  {
   "cell_type": "code",
   "execution_count": 77,
   "metadata": {
    "collapsed": false
   },
   "outputs": [
    {
     "name": "stdout",
     "output_type": "stream",
     "text": [
      "0.1  :  6.4119\n",
      "0.11  :  6.4051\n",
      "0.12  :  6.4092\n",
      "0.13  :  6.3936\n",
      "0.14  :  6.3744\n",
      "0.15  :  6.3578\n",
      "0.16  :  6.351\n",
      "0.17  :  6.3418\n",
      "0.18  :  6.327\n",
      "0.19  :  6.3133\n",
      "0.2  :  6.3027\n",
      "0.21  :  6.2961\n",
      "0.22  :  6.2901\n",
      "0.23  :  6.2905\n",
      "0.24  :  6.2892\n",
      "0.25  :  6.2887\n",
      "0.26  :  6.2864\n",
      "0.27  :  6.2837\n",
      "0.28  :  6.2832\n",
      "0.29  :  6.2826\n",
      "0.3  :  6.2812\n",
      "0.31  :  6.2779\n",
      "0.32  :  6.2741\n",
      "0.33  :  6.2711\n",
      "0.34  :  6.2717\n",
      "0.35  :  6.2714\n",
      "0.36  :  6.2719\n",
      "0.37  :  6.2722\n",
      "0.38  :  6.2721\n",
      "0.39  :  6.2725\n",
      "0.4  :  6.2728\n",
      "0.41  :  6.2729\n",
      "0.42  :  6.2733\n",
      "0.43  :  6.2734\n",
      "0.44  :  6.2734\n",
      "0.45  :  6.2733\n",
      "0.46  :  6.2742\n",
      "0.47  :  6.2743\n",
      "0.48  :  6.2748\n",
      "0.49  :  6.2753\n",
      "0.5  :  6.2757\n",
      "0.51  :  6.2758\n",
      "0.52  :  6.2765\n",
      "0.53  :  6.2774\n",
      "0.54  :  6.2784\n",
      "0.55  :  6.2787\n",
      "0.56  :  6.2785\n",
      "0.57  :  6.2778\n",
      "0.58  :  6.2794\n",
      "0.59  :  6.2846\n",
      "0.6  :  6.2895\n",
      "0.61  :  6.293\n",
      "0.62  :  6.2969\n",
      "0.63  :  6.302\n",
      "0.64  :  6.307\n",
      "0.65  :  6.3118\n",
      "0.66  :  6.3159\n",
      "0.67  :  6.3214\n",
      "0.68  :  6.3246\n",
      "0.69  :  6.3272\n",
      "0.7  :  6.3323\n",
      "0.71  :  6.3324\n",
      "0.72  :  6.3331\n",
      "0.73  :  6.3334\n",
      "0.74  :  6.3342\n",
      "0.75  :  6.3346\n",
      "0.76  :  6.3335\n",
      "0.77  :  6.3331\n",
      "0.78  :  6.3333\n",
      "0.79  :  6.3325\n"
     ]
    }
   ],
   "source": [
    "for i in np.arange(0.1,0.8,0.01):\n",
    "    \n",
    "    regr = SVR(kernel= 'rbf', C= 100, gamma= i)\n",
    "    #regr= linear_model.LinearRegression()\n",
    "\n",
    "    # Train the model using the training sets\n",
    "    regr.fit(data[\"time\"].reshape(-1,1),data[\"battery\"])\n",
    "\n",
    "    print i,\" : \",round(regr.predict(inp)[0],4)"
   ]
  },
  {
   "cell_type": "code",
   "execution_count": null,
   "metadata": {
    "collapsed": true
   },
   "outputs": [],
   "source": []
  }
 ],
 "metadata": {
  "kernelspec": {
   "display_name": "Python 2",
   "language": "python",
   "name": "python2"
  },
  "language_info": {
   "codemirror_mode": {
    "name": "ipython",
    "version": 2
   },
   "file_extension": ".py",
   "mimetype": "text/x-python",
   "name": "python",
   "nbconvert_exporter": "python",
   "pygments_lexer": "ipython2",
   "version": "2.7.12"
  }
 },
 "nbformat": 4,
 "nbformat_minor": 0
}
