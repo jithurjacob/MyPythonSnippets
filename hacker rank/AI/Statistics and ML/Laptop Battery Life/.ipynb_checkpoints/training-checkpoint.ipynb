{
 "cells": [
  {
   "cell_type": "code",
   "execution_count": 9,
   "metadata": {
    "collapsed": false
   },
   "outputs": [
    {
     "name": "stdout",
     "output_type": "stream",
     "text": [
      "   time  battery\n",
      "0  2.81     5.62\n",
      "1  7.14     8.00\n",
      "2  2.72     5.44\n",
      "3  3.87     7.74\n",
      "4  1.90     3.80\n",
      "[ 3.00880628]\n"
     ]
    }
   ],
   "source": [
    "import sys, pandas as pd\n",
    "import numpy as np\n",
    "from sklearn import linear_model\n",
    "from sklearn.svm import SVR\n",
    "inp =  float(sys.stdin.readline())\n",
    "\n",
    "data = pd.read_csv(\"trainingdata.txt\",header=None,names=[\"time\",\"battery\"])\n",
    "#print data.head()\n",
    "#train_X, test_X, train_y, test_y = data[\"time\"][:-20], data[\"time\"][-20:], data[\"battery\"][:-20],data[\"battery\"][-20:]\n",
    "\n",
    "regr = SVR(C=1.0, epsilon=0.01)# linear_model.LinearRegression()\n",
    "\n",
    "# Train the model using the training sets\n",
    "regr.fit(train_X.reshape(-1,1),train_y)\n",
    "\n",
    "print regr.predict(inp)\n"
   ]
  },
  {
   "cell_type": "code",
   "execution_count": null,
   "metadata": {
    "collapsed": true
   },
   "outputs": [],
   "source": []
  }
 ],
 "metadata": {
  "kernelspec": {
   "display_name": "Python 2",
   "language": "python",
   "name": "python2"
  },
  "language_info": {
   "codemirror_mode": {
    "name": "ipython",
    "version": 2
   },
   "file_extension": ".py",
   "mimetype": "text/x-python",
   "name": "python",
   "nbconvert_exporter": "python",
   "pygments_lexer": "ipython2",
   "version": "2.7.12"
  }
 },
 "nbformat": 4,
 "nbformat_minor": 0
}
