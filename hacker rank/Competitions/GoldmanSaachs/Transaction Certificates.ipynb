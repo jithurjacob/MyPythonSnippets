{
 "cells": [
  {
   "cell_type": "code",
   "execution_count": 26,
   "metadata": {
    "collapsed": true
   },
   "outputs": [],
   "source": [
    "import numpy as np\n",
    "from itertools import product"
   ]
  },
  {
   "cell_type": "code",
   "execution_count": 4,
   "metadata": {
    "collapsed": true
   },
   "outputs": [],
   "source": [
    "c = 1 # testing"
   ]
  },
  {
   "cell_type": "code",
   "execution_count": 2,
   "metadata": {
    "collapsed": true
   },
   "outputs": [],
   "source": [
    "n,k,p,m = 3,4,3,16"
   ]
  },
  {
   "cell_type": "code",
   "execution_count": 7,
   "metadata": {
    "collapsed": false
   },
   "outputs": [],
   "source": [
    "Cn_1 = c*n-1\n",
    "total_digits = Cn_1 +1"
   ]
  },
  {
   "cell_type": "code",
   "execution_count": 31,
   "metadata": {
    "collapsed": true
   },
   "outputs": [],
   "source": [
    "bank_accounts = range(1,k+1)"
   ]
  },
  {
   "cell_type": "code",
   "execution_count": 40,
   "metadata": {
    "collapsed": false
   },
   "outputs": [],
   "source": [
    "vals = [np.array(i) for i in product(bank_accounts, repeat=total_digits)]"
   ]
  },
  {
   "cell_type": "code",
   "execution_count": 41,
   "metadata": {
    "collapsed": false
   },
   "outputs": [
    {
     "data": {
      "text/plain": [
       "[array([1, 1, 1]),\n",
       " array([1, 1, 2]),\n",
       " array([1, 1, 3]),\n",
       " array([1, 1, 4]),\n",
       " array([1, 2, 1]),\n",
       " array([1, 2, 2]),\n",
       " array([1, 2, 3]),\n",
       " array([1, 2, 4]),\n",
       " array([1, 3, 1]),\n",
       " array([1, 3, 2]),\n",
       " array([1, 3, 3]),\n",
       " array([1, 3, 4]),\n",
       " array([1, 4, 1]),\n",
       " array([1, 4, 2]),\n",
       " array([1, 4, 3]),\n",
       " array([1, 4, 4]),\n",
       " array([2, 1, 1]),\n",
       " array([2, 1, 2]),\n",
       " array([2, 1, 3]),\n",
       " array([2, 1, 4]),\n",
       " array([2, 2, 1]),\n",
       " array([2, 2, 2]),\n",
       " array([2, 2, 3]),\n",
       " array([2, 2, 4]),\n",
       " array([2, 3, 1]),\n",
       " array([2, 3, 2]),\n",
       " array([2, 3, 3]),\n",
       " array([2, 3, 4]),\n",
       " array([2, 4, 1]),\n",
       " array([2, 4, 2]),\n",
       " array([2, 4, 3]),\n",
       " array([2, 4, 4]),\n",
       " array([3, 1, 1]),\n",
       " array([3, 1, 2]),\n",
       " array([3, 1, 3]),\n",
       " array([3, 1, 4]),\n",
       " array([3, 2, 1]),\n",
       " array([3, 2, 2]),\n",
       " array([3, 2, 3]),\n",
       " array([3, 2, 4]),\n",
       " array([3, 3, 1]),\n",
       " array([3, 3, 2]),\n",
       " array([3, 3, 3]),\n",
       " array([3, 3, 4]),\n",
       " array([3, 4, 1]),\n",
       " array([3, 4, 2]),\n",
       " array([3, 4, 3]),\n",
       " array([3, 4, 4]),\n",
       " array([4, 1, 1]),\n",
       " array([4, 1, 2]),\n",
       " array([4, 1, 3]),\n",
       " array([4, 1, 4]),\n",
       " array([4, 2, 1]),\n",
       " array([4, 2, 2]),\n",
       " array([4, 2, 3]),\n",
       " array([4, 2, 4]),\n",
       " array([4, 3, 1]),\n",
       " array([4, 3, 2]),\n",
       " array([4, 3, 3]),\n",
       " array([4, 3, 4]),\n",
       " array([4, 4, 1]),\n",
       " array([4, 4, 2]),\n",
       " array([4, 4, 3]),\n",
       " array([4, 4, 4])]"
      ]
     },
     "execution_count": 41,
     "metadata": {},
     "output_type": "execute_result"
    }
   ],
   "source": [
    "vals"
   ]
  },
  {
   "cell_type": "code",
   "execution_count": 38,
   "metadata": {
    "collapsed": false
   },
   "outputs": [],
   "source": [
    "\n",
    "const_array = np.array([ p**(n-1-i) for i in range(0,n) ])"
   ]
  },
  {
   "cell_type": "code",
   "execution_count": 39,
   "metadata": {
    "collapsed": false
   },
   "outputs": [
    {
     "data": {
      "text/plain": [
       "array([9, 3, 1])"
      ]
     },
     "execution_count": 39,
     "metadata": {},
     "output_type": "execute_result"
    }
   ],
   "source": [
    "const_array"
   ]
  },
  {
   "cell_type": "code",
   "execution_count": 56,
   "metadata": {
    "collapsed": false
   },
   "outputs": [],
   "source": [
    "sums = vals * const_array"
   ]
  },
  {
   "cell_type": "code",
   "execution_count": 57,
   "metadata": {
    "collapsed": false
   },
   "outputs": [],
   "source": [
    "sums_ = np.sum(sums,axis=1)"
   ]
  },
  {
   "cell_type": "code",
   "execution_count": 58,
   "metadata": {
    "collapsed": false
   },
   "outputs": [
    {
     "data": {
      "text/plain": [
       "array([13, 14, 15, 16, 16, 17, 18, 19, 19, 20, 21, 22, 22, 23, 24, 25, 22,\n",
       "       23, 24, 25, 25, 26, 27, 28, 28, 29, 30, 31, 31, 32, 33, 34, 31, 32,\n",
       "       33, 34, 34, 35, 36, 37, 37, 38, 39, 40, 40, 41, 42, 43, 40, 41, 42,\n",
       "       43, 43, 44, 45, 46, 46, 47, 48, 49, 49, 50, 51, 52])"
      ]
     },
     "execution_count": 58,
     "metadata": {},
     "output_type": "execute_result"
    }
   ],
   "source": [
    "sums_"
   ]
  },
  {
   "cell_type": "code",
   "execution_count": 59,
   "metadata": {
    "collapsed": false
   },
   "outputs": [
    {
     "data": {
      "text/plain": [
       "array([13, 14, 15,  0,  0,  1,  2,  3,  3,  4,  5,  6,  6,  7,  8,  9,  6,\n",
       "        7,  8,  9,  9, 10, 11, 12, 12, 13, 14, 15, 15,  0,  1,  2, 15,  0,\n",
       "        1,  2,  2,  3,  4,  5,  5,  6,  7,  8,  8,  9, 10, 11,  8,  9, 10,\n",
       "       11, 11, 12, 13, 14, 14, 15,  0,  1,  1,  2,  3,  4], dtype=int32)"
      ]
     },
     "execution_count": 59,
     "metadata": {},
     "output_type": "execute_result"
    }
   ],
   "source": [
    "sums_ % m"
   ]
  },
  {
   "cell_type": "code",
   "execution_count": 60,
   "metadata": {
    "collapsed": true
   },
   "outputs": [],
   "source": [
    "new_index_sets = [np.argwhere(i[0]== sums_) for i in np.array(np.unique(sums_, return_counts=True)).T if i[1]>=2]"
   ]
  },
  {
   "cell_type": "code",
   "execution_count": 61,
   "metadata": {
    "collapsed": false
   },
   "outputs": [
    {
     "data": {
      "text/plain": [
       "array([[3],\n",
       "       [4]], dtype=int64)"
      ]
     },
     "execution_count": 61,
     "metadata": {},
     "output_type": "execute_result"
    }
   ],
   "source": [
    "new_index_sets[0]"
   ]
  },
  {
   "cell_type": "code",
   "execution_count": 68,
   "metadata": {
    "collapsed": false
   },
   "outputs": [
    {
     "name": "stdout",
     "output_type": "stream",
     "text": [
      "9 3 4\n",
      "9 6 1\n"
     ]
    }
   ],
   "source": [
    "for elem in sums[new_index_sets[0]][:2]:\n",
    "    print(' '.join([str(i) for i in list(elem[0])]))"
   ]
  },
  {
   "cell_type": "code",
   "execution_count": null,
   "metadata": {
    "collapsed": true
   },
   "outputs": [],
   "source": []
  },
  {
   "cell_type": "code",
   "execution_count": null,
   "metadata": {
    "collapsed": true
   },
   "outputs": [],
   "source": []
  },
  {
   "cell_type": "code",
   "execution_count": 13,
   "metadata": {
    "collapsed": false
   },
   "outputs": [
    {
     "data": {
      "text/plain": [
       "array([ 4, 10, 18])"
      ]
     },
     "execution_count": 13,
     "metadata": {},
     "output_type": "execute_result"
    }
   ],
   "source": [
    "np.array([1,2,3]) * np.array([4,5,6])"
   ]
  },
  {
   "cell_type": "code",
   "execution_count": null,
   "metadata": {
    "collapsed": true
   },
   "outputs": [],
   "source": []
  },
  {
   "cell_type": "code",
   "execution_count": null,
   "metadata": {
    "collapsed": true
   },
   "outputs": [],
   "source": [
    "#numpy not supported"
   ]
  },
  {
   "cell_type": "code",
   "execution_count": 89,
   "metadata": {
    "collapsed": true
   },
   "outputs": [],
   "source": [
    "c = 1 # testing\n",
    "n,k,p,m = 3,4,3,16\n",
    "Cn_1 = c*n-1\n",
    "total_digits = Cn_1 +1\n",
    "bank_accounts = range(1,k+1)\n",
    "vals = [i for i in product(bank_accounts, repeat=total_digits)]\n",
    "\n",
    "const_array = [ p**(n-1-i) for i in range(0,n) ]\n",
    "#sums = [([a*b for a,b in zip(val, const_array)]) for val in vals ]\n",
    "sums_ = [sum([a*b for a,b in zip(val, const_array)])%m for val in vals ]\n",
    "#new_index_sets = [np.argwhere(i[0]== sums_) for i in np.array(np.unique(sums_, return_counts=True)).T if i[1]>=2]\n"
   ]
  },
  {
   "cell_type": "code",
   "execution_count": null,
   "metadata": {
    "collapsed": false
   },
   "outputs": [],
   "source": []
  },
  {
   "cell_type": "code",
   "execution_count": 96,
   "metadata": {
    "collapsed": false
   },
   "outputs": [],
   "source": [
    "from collections import defaultdict\n",
    "# https://stackoverflow.com/questions/5419204/index-of-duplicates-items-in-a-python-list\n",
    "def list_duplicates(seq):\n",
    "    tally = defaultdict(list)\n",
    "    for i,item in enumerate(seq):\n",
    "        tally[item].append(i)\n",
    "    return ((key,locs) for key,locs in tally.items() \n",
    "                            if len(locs)>1)\n",
    "\n",
    "# for dup in sorted(list_duplicates(sums_)):\n",
    "#     print(dup)\n",
    "dups = [_ for _ in list_duplicates(sums_)]"
   ]
  },
  {
   "cell_type": "code",
   "execution_count": 99,
   "metadata": {
    "collapsed": false
   },
   "outputs": [
    {
     "data": {
      "text/plain": [
       "[0, 25, 54]"
      ]
     },
     "execution_count": 99,
     "metadata": {},
     "output_type": "execute_result"
    }
   ],
   "source": [
    "dups[0][1]"
   ]
  },
  {
   "cell_type": "code",
   "execution_count": 105,
   "metadata": {
    "collapsed": false
   },
   "outputs": [
    {
     "name": "stdout",
     "output_type": "stream",
     "text": [
      "1 1 1\n",
      "2 3 2\n"
     ]
    }
   ],
   "source": [
    "for elem in  [vals[i] for i in dups[0][1]][:2]:\n",
    "    print(' '.join([str(i) for i in elem]))"
   ]
  },
  {
   "cell_type": "code",
   "execution_count": null,
   "metadata": {
    "collapsed": true
   },
   "outputs": [],
   "source": []
  }
 ],
 "metadata": {
  "kernelspec": {
   "display_name": "Python 3",
   "language": "python",
   "name": "python3"
  },
  "language_info": {
   "codemirror_mode": {
    "name": "ipython",
    "version": 3
   },
   "file_extension": ".py",
   "mimetype": "text/x-python",
   "name": "python",
   "nbconvert_exporter": "python",
   "pygments_lexer": "ipython3",
   "version": "3.6.0"
  }
 },
 "nbformat": 4,
 "nbformat_minor": 2
}
