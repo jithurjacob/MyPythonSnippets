{
 "cells": [
  {
   "cell_type": "code",
   "execution_count": null,
   "metadata": {
    "collapsed": true
   },
   "outputs": [],
   "source": [
    "#!/bin/python3\n",
    "\n",
    "import sys\n",
    "\n",
    "def buyMaximumProducts(n, k, a):\n",
    "    # Complete this function\n",
    "    total = 0\n",
    "    for i in range(1,n+1):\n",
    "        \n",
    "        if total + i*a[i-1] <= k:\n",
    "            total+=i\n",
    "            k-= i*a[i-1]\n",
    "        else:\n",
    "            #print((k // a[i-1],i,k ,a[i-1]))\n",
    "            j = min(k // a[i-1],i)\n",
    "            total+=  j\n",
    "            k -= j * a[i- 1]\n",
    "        #print(i,total,k)\n",
    "    return total\n",
    "if __name__ == \"__main__\":\n",
    "    n = int(input().strip())\n",
    "    arr = list(map(int, input().strip().split(' ')))\n",
    "    k = int(input().strip())\n",
    "    result = buyMaximumProducts(n, k, arr)\n",
    "    print(result)\n"
   ]
  },
  {
   "cell_type": "code",
   "execution_count": 11,
   "metadata": {
    "collapsed": false
   },
   "outputs": [
    {
     "name": "stdout",
     "output_type": "stream",
     "text": [
      "0\n"
     ]
    }
   ],
   "source": [
    "#!/bin/python3\n",
    "\n",
    "import sys\n",
    "\n",
    "n, k, a = 3,45,[10,7,19]\n",
    "\n",
    "from operator import itemgetter\n",
    "a = sorted([i for i in zip(range(1,n+1),a)],key=itemgetter(1))\n",
    "total = 0\n",
    "for elem in a:\n",
    "    if k>= elem[0]*elem[1]:\n",
    "        total += elem[0]\n",
    "        k-=elem[0]*elem[1]\n",
    "print(total)\n"
   ]
  },
  {
   "cell_type": "code",
   "execution_count": 18,
   "metadata": {
    "collapsed": false
   },
   "outputs": [
    {
     "data": {
      "text/plain": [
       "[(2, 7), (1, 10), (3, 19)]"
      ]
     },
     "execution_count": 18,
     "metadata": {},
     "output_type": "execute_result"
    }
   ],
   "source": [
    "from operator import itemgetter\n",
    "sorted([i for i in zip(range(1,n+1),a)],key=itemgetter(1))"
   ]
  },
  {
   "cell_type": "code",
   "execution_count": null,
   "metadata": {
    "collapsed": true
   },
   "outputs": [],
   "source": []
  }
 ],
 "metadata": {
  "kernelspec": {
   "display_name": "Python 3",
   "language": "python",
   "name": "python3"
  },
  "language_info": {
   "codemirror_mode": {
    "name": "ipython",
    "version": 3
   },
   "file_extension": ".py",
   "mimetype": "text/x-python",
   "name": "python",
   "nbconvert_exporter": "python",
   "pygments_lexer": "ipython3",
   "version": "3.6.0"
  }
 },
 "nbformat": 4,
 "nbformat_minor": 2
}
