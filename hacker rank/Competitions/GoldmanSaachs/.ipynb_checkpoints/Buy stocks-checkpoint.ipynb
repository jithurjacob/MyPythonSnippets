{
 "cells": [
  {
   "cell_type": "code",
   "execution_count": null,
   "metadata": {
    "collapsed": true
   },
   "outputs": [],
   "source": [
    "#!/bin/python3\n",
    "\n",
    "import sys\n",
    "\n",
    "def buyMaximumProducts(n, k, a):\n",
    "    # Complete this function\n",
    "    total = 0\n",
    "    for i in range(1,n+1):\n",
    "        \n",
    "        if total + i*a[i-1] <= k:\n",
    "            total+=i\n",
    "            k-= i*a[i-1]\n",
    "        else:\n",
    "            #print((k // a[i-1],i,k ,a[i-1]))\n",
    "            j = min(k // a[i-1],i)\n",
    "            total+=  j\n",
    "            k -= j * a[i- 1]\n",
    "        #print(i,total,k)\n",
    "    return total\n",
    "if __name__ == \"__main__\":\n",
    "    n = int(input().strip())\n",
    "    arr = list(map(int, input().strip().split(' ')))\n",
    "    k = int(input().strip())\n",
    "    result = buyMaximumProducts(n, k, arr)\n",
    "    print(result)\n"
   ]
  }
 ],
 "metadata": {
  "kernelspec": {
   "display_name": "Python 3",
   "language": "python",
   "name": "python3"
  },
  "language_info": {
   "codemirror_mode": {
    "name": "ipython",
    "version": 3
   },
   "file_extension": ".py",
   "mimetype": "text/x-python",
   "name": "python",
   "nbconvert_exporter": "python",
   "pygments_lexer": "ipython3",
   "version": "3.6.0"
  }
 },
 "nbformat": 4,
 "nbformat_minor": 2
}
