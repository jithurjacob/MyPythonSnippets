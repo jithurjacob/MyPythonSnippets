{
 "cells": [
  {
   "cell_type": "code",
   "execution_count": null,
   "metadata": {
    "collapsed": true
   },
   "outputs": [],
   "source": [
    "#!/bin/python3\n",
    "\n",
    "import sys\n",
    "\n",
    "if __name__ == \"__main__\":\n",
    "    n, q = input().strip().split(' ')\n",
    "    n, q = [int(n), int(q)]\n",
    "    t = list(map(int, input().strip().split(' ')))\n",
    "    p = list(map(int, input().strip().split(' ')))\n",
    "    for a0 in range(q):\n",
    "        _type, v = input().strip().split(' ')\n",
    "        _type, v = [int(_type), int(v)]\n"
   ]
  },
  {
   "cell_type": "code",
   "execution_count": 1,
   "metadata": {
    "collapsed": true
   },
   "outputs": [],
   "source": [
    "t,p = [1 ,2, 4, 8, 10], [5 ,3, 12, 1, 10]"
   ]
  },
  {
   "cell_type": "code",
   "execution_count": 2,
   "metadata": {
    "collapsed": true
   },
   "outputs": [],
   "source": [
    "_type, v = 1, 10"
   ]
  },
  {
   "cell_type": "code",
   "execution_count": null,
   "metadata": {
    "collapsed": true
   },
   "outputs": [],
   "source": [
    "#!/bin/python3\n",
    "\n",
    "import sys\n",
    "\n",
    "if __name__ == \"__main__\":\n",
    "    n, q = input().strip().split(' ')\n",
    "    n, q = [int(n), int(q)]\n",
    "    t = list(map(int, input().strip().split(' ')))\n",
    "    p = list(map(int, input().strip().split(' ')))\n",
    "    for a0 in range(q):\n",
    "        _type, v = input().strip().split(' ')\n",
    "        _type, v = [int(_type), int(v)]\n",
    "        if _type == 1:\n",
    "            # find when was the first time that the price of the stock was at least v ?\n",
    "            for time_,price_ in zip(t,p):\n",
    "                if price_>=v:\n",
    "                    print(time_)\n",
    "                    break\n",
    "            else:\n",
    "                print(-1)\n",
    "        else:\n",
    "            # what's the maximum price of the stock at a time greater or equal to v?\n",
    "            for time_,price_ in zip(t,p):\n",
    "                #print(time_,v)\n",
    "                if time_>=v:\n",
    "                    time_index = t.index(time_)\n",
    "                    break\n",
    "            #print(p[time_index:])\n",
    "            print(max(p[time_index:]))\n"
   ]
  },
  {
   "cell_type": "code",
   "execution_count": 14,
   "metadata": {
    "collapsed": false
   },
   "outputs": [
    {
     "name": "stdout",
     "output_type": "stream",
     "text": [
      "Wall time: 0 ns\n",
      "10\n"
     ]
    }
   ],
   "source": [
    "%time\n",
    "a,b = list(range(10**6)),list(range(10**6))\n",
    "for time_,price_ in zip(a,b):\n",
    "    if price_>=v:\n",
    "        print(time_)\n",
    "        break\n",
    "else:\n",
    "    print(-1)"
   ]
  },
  {
   "cell_type": "code",
   "execution_count": null,
   "metadata": {
    "collapsed": true
   },
   "outputs": [],
   "source": []
  },
  {
   "cell_type": "code",
   "execution_count": null,
   "metadata": {
    "collapsed": true
   },
   "outputs": [],
   "source": []
  }
 ],
 "metadata": {
  "kernelspec": {
   "display_name": "Python 3",
   "language": "python",
   "name": "python3"
  },
  "language_info": {
   "codemirror_mode": {
    "name": "ipython",
    "version": 3
   },
   "file_extension": ".py",
   "mimetype": "text/x-python",
   "name": "python",
   "nbconvert_exporter": "python",
   "pygments_lexer": "ipython3",
   "version": "3.6.0"
  }
 },
 "nbformat": 4,
 "nbformat_minor": 2
}
